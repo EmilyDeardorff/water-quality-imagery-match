{
  "nbformat": 4,
  "nbformat_minor": 0,
  "metadata": {
    "colab": {
      "name": "IWS-Landsat Data Matchup",
      "provenance": [],
      "collapsed_sections": [],
      "include_colab_link": true
    },
    "kernelspec": {
      "name": "python3",
      "display_name": "Python 3"
    }
  },
  "cells": [
    {
      "cell_type": "markdown",
      "metadata": {
        "id": "view-in-github",
        "colab_type": "text"
      },
      "source": [
        "<a href=\"https://colab.research.google.com/github/EmilyDeardorff/water-quality-imagery-match/blob/main/IWS_Landsat_Data_Matchup.ipynb\" target=\"_parent\"><img src=\"https://colab.research.google.com/assets/colab-badge.svg\" alt=\"Open In Colab\"/></a>"
      ]
    },
    {
      "cell_type": "markdown",
      "metadata": {
        "id": "U7i55vr_aKCB"
      },
      "source": [
        "Initialize API"
      ]
    },
    {
      "cell_type": "code",
      "metadata": {
        "id": "XeFsiSp2aDL6"
      },
      "source": [
        "import ee\n",
        "\n",
        "# Trigger the authentication flow.\n",
        "ee.Authenticate()\n",
        "\n",
        "# Initialize the library.\n",
        "ee.Initialize()"
      ],
      "execution_count": null,
      "outputs": []
    },
    {
      "cell_type": "markdown",
      "source": [
        "Read in IWS data"
      ],
      "metadata": {
        "id": "zuAYdsrEDa0m"
      }
    },
    {
      "cell_type": "code",
      "source": [
        "import pandas as pd\n"
      ],
      "metadata": {
        "id": "KBpibnqCDUgV"
      },
      "execution_count": 1,
      "outputs": []
    },
    {
      "cell_type": "markdown",
      "metadata": {
        "id": "u6V2UYFlPAPj"
      },
      "source": [
        "## Getting started with Collections\n",
        "\n",
        "In the Earth Engine Data Catalog, datasets can be of different types:\n",
        "\n",
        "- *Features* which are geometric objects with a list of properties. For example, a watershed with some properties such as *name* and *area*, is an `ee.Feature`.\n",
        "- *Images* which are like features, but may include several bands. For example, the ground elevation given by the USGS [here](https://developers.google.com/earth-engine/datasets/catalog/USGS_SRTMGL1_003) is an `ee.Image`.\n",
        "- *Collections* which are groups of features or images. For example, the [Global Administrative Unit Layers](https://developers.google.com/earth-engine/datasets/catalog/FAO_GAUL_2015_level0) giving administrative boundaries is a `ee.FeatureCollection` and the [MODIS Land Surface Temperature](https://developers.google.com/earth-engine/datasets/catalog/MODIS_006_MOD11A1) dataset is an `ee.ImageCollection`.\n",
        "\n",
        "If you want to know more about different data models, you may want to visit the [Earth Engine User Guide](https://developers.google.com/earth-engine).\n",
        "\n",
        "In the following sections, we work with the MODIS [land cover (LC)](https://developers.google.com/earth-engine/datasets/catalog/MODIS_006_MCD12Q1), the MODIS [land surface temperature (LST)](https://developers.google.com/earth-engine/datasets/catalog/MODIS_006_MOD11A1) and with the USGS [ground elevation (ELV)](https://developers.google.com/earth-engine/datasets/catalog/USGS_SRTMGL1_003), which are `ee.ImageCollections`. The dataset descriptions provide us with all the information we need to import and manipulate these datasets: the availability, the provider, the Earth Engine Snippet, and the available bands associated with images in the collection.\n",
        "\n",
        "Now, to import the LC, LST and ELV collections, we can copy and paste the Earth Engine Snippets:"
      ]
    },
    {
      "cell_type": "code",
      "metadata": {
        "id": "i6WDkfesPYeV"
      },
      "source": [
        "# Import the MODIS land cover collection.\n",
        "lc = ee.ImageCollection('MODIS/006/MCD12Q1')\n",
        "\n",
        "# Import the MODIS land surface temperature collection.\n",
        "lst = ee.ImageCollection('MODIS/006/MOD11A1')\n",
        "\n",
        "# Import the USGS ground elevation image.\n",
        "elv = ee.Image('USGS/SRTMGL1_003')"
      ],
      "execution_count": null,
      "outputs": []
    },
    {
      "cell_type": "markdown",
      "metadata": {
        "id": "GMMR8rvDPd9r"
      },
      "source": [
        "All of these images come in a different resolution, frequency, and possibly projection, ranging from daily images in a 1 km resolution for LST (hence an `ee.ImageCollection` — a collection of several `ee.Images`) to a single image representing data for the year 2000 in a 30 m resolution for the ELV. While we need to have an eye on the frequency, GEE takes care of resolution and projection by resampling and reprojecting all data we are going to work with to a common projection (learn more about [projections in Earth Engine](https://developers.google.com/earth-engine/guides/projections)). We can define the resolution (called scale in GEE) whenever necessary and of course have the option to force no reprojection.\n",
        "\n",
        "As you can see in the description of the datasets, they include several sets of information stored in several bands. For example, these bands are associated with the LST collection:\n",
        "\n",
        "- _LST\\_Day\\_1km_: Daytime Land Surface Temperature\n",
        "- _Day\\_view\\_time_: Local time of day observation\n",
        "- _LST\\_Night\\_1km_: Nighttime Land Surface Temperature\n",
        "- etc.\n",
        "\n",
        "The description page of the collection tells us that the name of the band associated with the daytime LST is _LST\\_Day\\_1km_ which is in units of Kelvin. In addition, values are ranging from 7,500 to 65,535 with a corrective scale of 0.02.\n",
        "\n",
        "Then, we have to filter the collection on the period of time we want. We can do that using the `filterDate()` method. We also need to select the bands we want to work with. Therefore, we decide to focus on daytime LST so we select the daytime band _LST\\_Day\\_1km_ and its associated quality indicator _QC\\_Day_ with the `select()` method."
      ]
    },
    {
      "cell_type": "code",
      "metadata": {
        "id": "jhoBd-aEPrD7"
      },
      "source": [
        "# Initial date of interest (inclusive).\n",
        "i_date = '2017-01-01'\n",
        "\n",
        "# Final date of interest (exclusive).\n",
        "f_date = '2020-01-01'\n",
        "\n",
        "# Selection of appropriate bands and dates for LST.\n",
        "lst = lst.select('LST_Day_1km', 'QC_Day').filterDate(i_date, f_date)"
      ],
      "execution_count": null,
      "outputs": []
    },
    {
      "cell_type": "markdown",
      "metadata": {
        "id": "fIQrdLTxPvKT"
      },
      "source": [
        "Now, we can either upload existing shape files or define some points with longitude and latitude coordinates where we want to know more about LC, LST and ELV. For this example, let's use two point locations:\n",
        "\n",
        "- The first one in the urban area of Lyon, France\n",
        "- The second one, 30 kilometers away from the city center, in a rural area"
      ]
    },
    {
      "cell_type": "code",
      "metadata": {
        "id": "WyNni8FsP0Ss"
      },
      "source": [
        "# Define the urban location of interest as a point near Lyon, France.\n",
        "u_lon = 4.8148\n",
        "u_lat = 45.7758\n",
        "u_poi = ee.Geometry.Point(u_lon, u_lat)\n",
        "\n",
        "# Define the rural location of interest as a point away from the city.\n",
        "r_lon = 5.175964\n",
        "r_lat = 45.574064\n",
        "r_poi = ee.Geometry.Point(r_lon, r_lat)"
      ],
      "execution_count": null,
      "outputs": []
    },
    {
      "cell_type": "markdown",
      "metadata": {
        "id": "5_b5z0ieQAO0"
      },
      "source": [
        "We can easily get information about our region/point of interest using the following methods (to get more information about available methods and required arguments, please visit the API documentation [here](https://developers.google.com/earth-engine/api_docs)):\n",
        "\n",
        "- `sample()`: samples the image (does NOT work for an `ee.ImageCollection` — we'll talk about sampling an `ee.ImageCollection` later) according to a given geometry and a scale (in meters) of the projection to sample in. It returns an `ee.FeatureCollection`.\n",
        "- `first()`: returns the first entry of the collection,\n",
        "- `get()`: to select the appropriate band of your Image/Collection,\n",
        "- `getInfo()`: evaluates server-side expression graph and transfers result to client.\n",
        "\n",
        "Then we can query the ground elevation and LST around our point of interest using the following commands. Please be careful when evaluating LST. According to the [dataset description](https://developers.google.com/earth-engine/datasets/catalog/MODIS_006_MOD11A1), the value should be corrected by a factor of 0.02 to get units of Kelvin (do not forget the conversion). To get the mean multi-annual daytime LST, we use the `mean()` collection reduction method on the LST `ee.ImageCollection`. (The following run might take about 15-20 seconds)"
      ]
    },
    {
      "cell_type": "code",
      "metadata": {
        "id": "qwNoBjtyP3P8"
      },
      "source": [
        "scale = 1000  # scale in meters\n",
        "\n",
        "# Print the elevation near Lyon, France.\n",
        "elv_urban_point = elv.sample(u_poi, scale).first().get('elevation').getInfo()\n",
        "print('Ground elevation at urban point:', elv_urban_point, 'm')\n",
        "\n",
        "# Calculate and print the mean value of the LST collection at the point.\n",
        "lst_urban_point = lst.mean().sample(u_poi, scale).first().get('LST_Day_1km').getInfo()\n",
        "print('Average daytime LST at urban point:', round(lst_urban_point*0.02 -273.15, 2), '°C')\n",
        "\n",
        "# Print the land cover type at the point.\n",
        "lc_urban_point = lc.first().sample(u_poi, scale).first().get('LC_Type1').getInfo()\n",
        "print('Land cover value at urban point is:', lc_urban_point)"
      ],
      "execution_count": null,
      "outputs": []
    },
    {
      "cell_type": "markdown",
      "metadata": {
        "id": "uPiiAMxJQLDc"
      },
      "source": [
        "Going back to the band description of the `lc` dataset, we see that a `lc` value of \"13\" corresponds to an urban land. You can run the above cells with the rural point coordinates if you want to notice a difference."
      ]
    },
    {
      "cell_type": "markdown",
      "metadata": {
        "id": "oCLX5Nu_QWKE"
      },
      "source": [
        "## Get a time series\n",
        "\n",
        "Now that you see we can get geospatial information about a place of interest pretty easily, you may want to inspect a time series, probably make some charts and calculate statistics about a place. Hence, we import the data at the given locations using the `getRegion()` method."
      ]
    },
    {
      "cell_type": "code",
      "metadata": {
        "id": "tl2aDJe7Qbr6"
      },
      "source": [
        "# Get the data for the pixel intersecting the point in urban area.\n",
        "lst_u_poi = lst.getRegion(u_poi, scale).getInfo()\n",
        "\n",
        "# Get the data for the pixel intersecting the point in rural area.\n",
        "lst_r_poi = lst.getRegion(r_poi, scale).getInfo()\n",
        "\n",
        "# Preview the result.\n",
        "lst_u_poi[:5]"
      ],
      "execution_count": null,
      "outputs": []
    },
    {
      "cell_type": "markdown",
      "metadata": {
        "id": "MCM4L83rQjfE"
      },
      "source": [
        "Printing the first 5 lines of the result shows that we now have arrays full of data. As we can see several `None` values appear in the _LST\\_Day\\_1km_ column. The associated quality indicator _QC\\_Day_ indicates a value of _2_ meaning that the LST is not calculated because of cloud effects.\n",
        "\n",
        "We now define a function to transform this array into a pandas Dataframe which is much more convenient to manipulate."
      ]
    },
    {
      "cell_type": "code",
      "metadata": {
        "id": "eQdthk0m5vJ9"
      },
      "source": [
        "import pandas as pd\n",
        "\n",
        "def ee_array_to_df(arr, list_of_bands):\n",
        "    \"\"\"Transforms client-side ee.Image.getRegion array to pandas.DataFrame.\"\"\"\n",
        "    df = pd.DataFrame(arr)\n",
        "\n",
        "    # Rearrange the header.\n",
        "    headers = df.iloc[0]\n",
        "    df = pd.DataFrame(df.values[1:], columns=headers)\n",
        "\n",
        "    # Remove rows without data inside.\n",
        "    df = df[['longitude', 'latitude', 'time', *list_of_bands]].dropna()\n",
        "\n",
        "    # Convert the data to numeric values.\n",
        "    for band in list_of_bands:\n",
        "        df[band] = pd.to_numeric(df[band], errors='coerce')\n",
        "\n",
        "    # Convert the time field into a datetime.\n",
        "    df['datetime'] = pd.to_datetime(df['time'], unit='ms')\n",
        "\n",
        "    # Keep the columns of interest.\n",
        "    df = df[['time','datetime',  *list_of_bands]]\n",
        "\n",
        "    return df"
      ],
      "execution_count": null,
      "outputs": []
    },
    {
      "cell_type": "markdown",
      "metadata": {
        "id": "-bqU_iyJQqi1"
      },
      "source": [
        "We apply this function to get the two time series we want (and print one).\n"
      ]
    },
    {
      "cell_type": "code",
      "metadata": {
        "id": "0-HSQbMDQrdV"
      },
      "source": [
        "lst_df_urban = ee_array_to_df(lst_u_poi,['LST_Day_1km'])\n",
        "\n",
        "def t_modis_to_celsius(t_modis):\n",
        "    \"\"\"Converts MODIS LST units to degrees Celsius.\"\"\"\n",
        "    t_celsius =  0.02*t_modis - 273.15\n",
        "    return t_celsius\n",
        "\n",
        "# Apply the function to get temperature in celsius.\n",
        "lst_df_urban['LST_Day_1km'] = lst_df_urban['LST_Day_1km'].apply(t_modis_to_celsius)\n",
        "\n",
        "# Do the same for the rural point.\n",
        "lst_df_rural = ee_array_to_df(lst_r_poi,['LST_Day_1km'])\n",
        "lst_df_rural['LST_Day_1km'] = lst_df_rural['LST_Day_1km'].apply(t_modis_to_celsius)\n",
        "\n",
        "lst_df_urban.head()"
      ],
      "execution_count": null,
      "outputs": []
    },
    {
      "cell_type": "markdown",
      "metadata": {
        "id": "vcrTDkERQwg9"
      },
      "source": [
        "Now that we have our data in a good shape, we can easily make plots and compare the trends. As the area of Lyon, France experiences a semi-continental climate, we expect that LST has a seasonality influence and the sinusoidal trend described by [Stallman (1965)](https://doi.org/10.1029/JZ070i012p02821) reading as follow:\n",
        "\n",
        "$$\n",
        "LST(t) = LST_{0} + \\frac{\\Delta _{LST}}{2}sin(\\frac{2\\pi t}{\\tau} + \\phi)\n",
        "$$\n",
        "\n",
        "where:\n",
        "\n",
        "- $LST_{0}$ represents the mean annual LST,\n",
        "- $\\Delta _{LST}$ represents the amplitude between maximal and minimal LST,\n",
        "- $\\tau$ represents the period of oscillation of LST, and\n",
        "- $\\phi$ represents an offset needed to adjust the time when $LST(t) = LST_{0}$\n",
        "\n",
        "Consequently, on the top of the data scatter plot, we plot the fitting curve using the scipy library:"
      ]
    },
    {
      "cell_type": "code",
      "metadata": {
        "id": "G3APsp1JQz8l"
      },
      "source": [
        "import matplotlib.pyplot as plt\n",
        "import numpy as np\n",
        "from scipy import optimize\n",
        "%matplotlib inline\n",
        "\n",
        "# Fitting curves.\n",
        "## First, extract x values (times) from the dfs.\n",
        "x_data_u = np.asanyarray(lst_df_urban['time'].apply(float))  # urban\n",
        "x_data_r = np.asanyarray(lst_df_rural['time'].apply(float))  # rural\n",
        "\n",
        "## Secondly, extract y values (LST) from the dfs.\n",
        "y_data_u = np.asanyarray(lst_df_urban['LST_Day_1km'].apply(float))  # urban\n",
        "y_data_r = np.asanyarray(lst_df_rural['LST_Day_1km'].apply(float))  # rural\n",
        "\n",
        "## Then, define the fitting function with parameters.\n",
        "def fit_func(t, lst0, delta_lst, tau, phi):\n",
        "    return lst0 + (delta_lst/2)*np.sin(2*np.pi*t/tau + phi)\n",
        "\n",
        "## Optimize the parameters using a good start p0.\n",
        "lst0 = 20\n",
        "delta_lst = 40\n",
        "tau = 365*24*3600*1000   # milliseconds in a year\n",
        "phi = 2*np.pi*4*30.5*3600*1000/tau  # offset regarding when we expect LST(t)=LST0\n",
        "\n",
        "params_u, params_covariance_u = optimize.curve_fit(\n",
        "    fit_func, x_data_u, y_data_u, p0=[lst0, delta_lst, tau, phi])\n",
        "params_r, params_covariance_r = optimize.curve_fit(\n",
        "    fit_func, x_data_r, y_data_r, p0=[lst0, delta_lst, tau, phi])\n",
        "\n",
        "# Subplots.\n",
        "fig, ax = plt.subplots(figsize=(14, 6))\n",
        "\n",
        "# Add scatter plots.\n",
        "ax.scatter(lst_df_urban['datetime'], lst_df_urban['LST_Day_1km'],\n",
        "           c='black', alpha=0.2, label='Urban (data)')\n",
        "ax.scatter(lst_df_rural['datetime'], lst_df_rural['LST_Day_1km'],\n",
        "           c='green', alpha=0.35, label='Rural (data)')\n",
        "\n",
        "# Add fitting curves.\n",
        "ax.plot(lst_df_urban['datetime'],\n",
        "        fit_func(x_data_u, params_u[0], params_u[1], params_u[2], params_u[3]),\n",
        "        label='Urban (fitted)', color='black', lw=2.5)\n",
        "ax.plot(lst_df_rural['datetime'],\n",
        "        fit_func(x_data_r, params_r[0], params_r[1], params_r[2], params_r[3]),\n",
        "        label='Rural (fitted)', color='green', lw=2.5)\n",
        "\n",
        "# Add some parameters.\n",
        "ax.set_title('Daytime Land Surface Temperature Near Lyon', fontsize=16)\n",
        "ax.set_xlabel('Date', fontsize=14)\n",
        "ax.set_ylabel('Temperature [C]', fontsize=14)\n",
        "ax.set_ylim(-0, 40)\n",
        "ax.grid(lw=0.2)\n",
        "ax.legend(fontsize=14, loc='lower right')\n",
        "\n",
        "plt.show()"
      ],
      "execution_count": null,
      "outputs": []
    },
    {
      "cell_type": "markdown",
      "metadata": {
        "id": "83Fo8CQMRQFX"
      },
      "source": [
        "## Static mapping of land surface temperature and ground elevation"
      ]
    },
    {
      "cell_type": "markdown",
      "metadata": {
        "id": "26WGEXdKGnDO"
      },
      "source": [
        "### Get a static map\n",
        "\n",
        "Now, we want to get static maps of land surface temperature and ground elevation around a region of interest. We define this region of interest using a buffer zone of 1000 km around Lyon, France."
      ]
    },
    {
      "cell_type": "code",
      "metadata": {
        "id": "DyYbq27DRpF3"
      },
      "source": [
        "# Define a region of interest with a buffer zone of 1000 km around Lyon.\n",
        "roi = u_poi.buffer(1e6)"
      ],
      "execution_count": null,
      "outputs": []
    },
    {
      "cell_type": "markdown",
      "metadata": {
        "id": "5pLydjJzRw3m"
      },
      "source": [
        "Also, we have to convert the LST `ee.ImageCollection` into an `ee.Image`, for example by taking the mean value of each pixel over the period of interest. And we convert the value of pixels into Celsius:"
      ]
    },
    {
      "cell_type": "code",
      "metadata": {
        "id": "zl7ueytoRxx-"
      },
      "source": [
        "# Reduce the LST collection by mean.\n",
        "lst_img = lst.mean()\n",
        "\n",
        "# Adjust for scale factor.\n",
        "lst_img = lst_img.select('LST_Day_1km').multiply(0.02)\n",
        "\n",
        "# Convert Kelvin to Celsius.\n",
        "lst_img = lst_img.select('LST_Day_1km').add(-273.15)"
      ],
      "execution_count": null,
      "outputs": []
    },
    {
      "cell_type": "markdown",
      "metadata": {
        "id": "HH5517P-R5E-"
      },
      "source": [
        "Then, we use the `getThumbUrl()` method to get a URL and we can use the IPython library to display the mean daytime LST map for the region of interest. Blue represents the coldest areas (< 10°C) and red represents the warmest areas (> 30°C) (note that it may take a moment for the image to load after the cell completes execution)."
      ]
    },
    {
      "cell_type": "code",
      "metadata": {
        "id": "vdzURyDxYdRM"
      },
      "source": [
        "from IPython.display import Image\n",
        "\n",
        "# Create a URL to the styled image for a region around France.\n",
        "url = lst_img.getThumbUrl({\n",
        "    'min': 10, 'max': 30, 'dimensions': 512, 'region': roi,\n",
        "    'palette': ['blue', 'yellow', 'orange', 'red']})\n",
        "print(url)\n",
        "\n",
        "# Display the thumbnail land surface temperature in France.\n",
        "print('\\nPlease wait while the thumbnail loads, it may take a moment...')\n",
        "Image(url=url)"
      ],
      "execution_count": null,
      "outputs": []
    },
    {
      "cell_type": "markdown",
      "metadata": {
        "id": "WavcJTkDSAl1"
      },
      "source": [
        "We do the same for ground elevation:"
      ]
    },
    {
      "cell_type": "code",
      "metadata": {
        "id": "m9KQojW-b4au"
      },
      "source": [
        "# Make pixels with elevation below sea level transparent.\n",
        "elv_img = elv.updateMask(elv.gt(0))\n",
        "\n",
        "# Display the thumbnail of styled elevation in France.\n",
        "Image(url=elv_img.getThumbURL({\n",
        "    'min': 0, 'max': 2000, 'dimensions': 512, 'region': roi,\n",
        "    'palette': ['006633', 'E5FFCC', '662A00', 'D8D8D8', 'F5F5F5']}))"
      ],
      "execution_count": null,
      "outputs": []
    },
    {
      "cell_type": "markdown",
      "metadata": {
        "id": "zeJCOL23SE4-"
      },
      "source": [
        "Of course you may want to have a closer look around a specific part of the map. So let's define another region (a buffer zone around Lyon), adjust the min/max scale and display:"
      ]
    },
    {
      "cell_type": "code",
      "metadata": {
        "id": "0cYxt2mVSHil"
      },
      "source": [
        "# Create a buffer zone of 10 km around Lyon.\n",
        "lyon = u_poi.buffer(10000)  # meters\n",
        "\n",
        "url = elv_img.getThumbUrl({\n",
        "    'min': 150, 'max': 350, 'region': lyon, 'dimensions': 512,\n",
        "    'palette': ['006633', 'E5FFCC', '662A00', 'D8D8D8', 'F5F5F5']})\n",
        "Image(url=url)"
      ],
      "execution_count": null,
      "outputs": []
    },
    {
      "cell_type": "markdown",
      "metadata": {
        "id": "x7HQlF2FSPFl"
      },
      "source": [
        "### Clip an image by a region of interest\n",
        "\n",
        "In case you want to display an image over a given region (and not outside), we can clip our dataset using the region as an argument of the `clip()` method. Let's say that we want to display the ground elevation in France. We can get the geometry of the administrative boundary of France with the [FAO feature collection](https://developers.google.com/earth-engine/datasets/catalog/FAO_GAUL_2015_level0) and do the same as before:"
      ]
    },
    {
      "cell_type": "code",
      "metadata": {
        "id": "XyiRmMt8SVot"
      },
      "source": [
        "# Get a feature collection of administrative boundaries.\n",
        "countries = ee.FeatureCollection('FAO/GAUL/2015/level0').select('ADM0_NAME')\n",
        "\n",
        "# Filter the feature collection to subset France.\n",
        "france = countries.filter(ee.Filter.eq('ADM0_NAME', 'France'))\n",
        "\n",
        "# Clip the image by France.\n",
        "elv_fr = elv_img.clip(france)\n",
        "\n",
        "# Create the URL associated with the styled image data.\n",
        "url = elv_fr.getThumbUrl({\n",
        "    'min': 0, 'max': 2500, 'region': roi, 'dimensions': 512,\n",
        "    'palette': ['006633', 'E5FFCC', '662A00', 'D8D8D8', 'F5F5F5']})\n",
        "\n",
        "# Display a thumbnail of elevation in France.\n",
        "Image(url=url)"
      ],
      "execution_count": null,
      "outputs": []
    },
    {
      "cell_type": "markdown",
      "metadata": {
        "id": "nPE71g0rSanG"
      },
      "source": [
        "## Export a GeoTIFF file\n",
        "\n",
        "After manipulating Earth Engine datasets, you may need to export a resulting `ee.Image` to a GeoTIFF. For example, to use it as an input of a numerical model outside of Earth Engine, or to overlap it with personal georeferencend files in your favorite GIS. There are multiple ways to do that (see the [Exporting](https://developers.google.com/earth-engine/guides/exporting#exporting-images) section of the Developer Guide). Here we explore two options:\n",
        "\n",
        "- Save the `ee.Image` you want in Google Drive\n",
        "- Directly download the image."
      ]
    },
    {
      "cell_type": "markdown",
      "metadata": {
        "id": "M18DAo-sHFUd"
      },
      "source": [
        "### Save a GeoTIFF file in your Google Drive\n",
        "\n",
        "To export the `ee.Image` to Google Drive, we have to define a task and start it. We have to specify the size of pixels (here 30 m), the projection (here EPSG:4326), the file format (here GeoTIFF), the region of interest (here the area of Lyon defined before), and the file will be exported to the Google Drive directory head and named according to the `fileNamePrefix` we choose."
      ]
    },
    {
      "cell_type": "code",
      "metadata": {
        "id": "pxJSKalPT2xA"
      },
      "source": [
        "task = ee.batch.Export.image.toDrive(image=elv_img,\n",
        "                                     description='elevation_near_lyon_france',\n",
        "                                     scale=30,\n",
        "                                     region=lyon,\n",
        "                                     fileNamePrefix='my_export_lyon',\n",
        "                                     crs='EPSG:4326',\n",
        "                                     fileFormat='GeoTIFF')\n",
        "task.start()"
      ],
      "execution_count": null,
      "outputs": []
    },
    {
      "cell_type": "markdown",
      "metadata": {
        "id": "1dq_B43MT8d_"
      },
      "source": [
        "Then we can check the status of our task (note: the task will also be registered in the JavaScript [Code Editor's](https://code.earthengine.google.com/) list of tasks) using the `status()` method. Depending on the size of the request, we might run this cell several times until the task *state* becomes 'COMPLETED' (in order, the state of the export task is 'READY', then 'RUNNING', and finally 'COMPLETED')."
      ]
    },
    {
      "cell_type": "code",
      "metadata": {
        "id": "FHMfGQPNT9Ue"
      },
      "source": [
        "task.status()"
      ],
      "execution_count": null,
      "outputs": []
    },
    {
      "cell_type": "markdown",
      "metadata": {
        "id": "u3Vqk5nQUBs2"
      },
      "source": [
        "Now you can check your google drive to find your file.\n",
        "\n",
        "### Get a link to download your GeoTIFF\n",
        "\n",
        "Similarly, we can use the `getDownloadUrl()` method and click on the provided link. Please note the following points:\n",
        "\n",
        "- For large or long-running exports, using the `ee.batch.Export` module (previous section) is a better method.\n",
        "- The token to generate the Earth Engine layer tiles expires after about a day.\n"
      ]
    },
    {
      "cell_type": "code",
      "metadata": {
        "id": "gzHi1xooUJ1A"
      },
      "source": [
        "link = lst_img.getDownloadURL({\n",
        "    'scale': 30,\n",
        "    'crs': 'EPSG:4326',\n",
        "    'fileFormat': 'GeoTIFF',\n",
        "    'region': lyon})\n",
        "print(link)"
      ],
      "execution_count": null,
      "outputs": []
    },
    {
      "cell_type": "markdown",
      "metadata": {
        "id": "JAn5ihMPUPrQ"
      },
      "source": [
        "## Interactive mapping using folium\n",
        "\n",
        "To display these GEE datasets on an interactive map, let me introduce you to [folium](https://python-visualization.github.io/folium/). Folium is a python library based on [leaflet.js](https://leafletjs.com/) (open-source JavaScript library for mobile-friendly interactive maps) that you can use to make interactive maps. Folium supports WMS, GeoJSON layers, vector layers, and tile layers which make it very convenient and straightforward to visualize the data we manipulate with python. We create our first interactive map with one line of code, specifying the location where we want to center the map, the zoom level, and the main dimensions of the map:"
      ]
    },
    {
      "cell_type": "code",
      "metadata": {
        "id": "zawegH1MUdlX"
      },
      "source": [
        "import folium\n",
        "\n",
        "# Define the center of our map.\n",
        "lat, lon = 45.77, 4.855\n",
        "\n",
        "my_map = folium.Map(location=[lat, lon], zoom_start=10)\n",
        "my_map"
      ],
      "execution_count": null,
      "outputs": []
    },
    {
      "cell_type": "markdown",
      "metadata": {
        "id": "lQn6Gig1Uh2A"
      },
      "source": [
        "On top of this map, we now want to add the GEE layers we studied before: land cover (LC), land surface temperature (LST) and ground elevation model (ELV). For each GEE dataset, the process consists of adding a new tile layer to our map with specified visualization parameters. Let's define a new method for handing Earth Engine tiles and using it to display an elevation model to a Leaflet map."
      ]
    },
    {
      "cell_type": "code",
      "metadata": {
        "id": "89EeGz_3lVEn"
      },
      "source": [
        "def add_ee_layer(self, ee_image_object, vis_params, name):\n",
        "    \"\"\"Adds a method for displaying Earth Engine image tiles to folium map.\"\"\"\n",
        "    map_id_dict = ee.Image(ee_image_object).getMapId(vis_params)\n",
        "    folium.raster_layers.TileLayer(\n",
        "        tiles=map_id_dict['tile_fetcher'].url_format,\n",
        "        attr='Map Data &copy; <a href=\"https://earthengine.google.com/\">Google Earth Engine</a>',\n",
        "        name=name,\n",
        "        overlay=True,\n",
        "        control=True\n",
        "    ).add_to(self)\n",
        "\n",
        "# Add Earth Engine drawing method to folium.\n",
        "folium.Map.add_ee_layer = add_ee_layer"
      ],
      "execution_count": null,
      "outputs": []
    },
    {
      "cell_type": "markdown",
      "metadata": {
        "id": "t-OsgK3Gll-3"
      },
      "source": [
        "We want to respect the common LC classes defined in the table of the previous section (hexadecimal codes are given for each class: water bodies are blue, urban areas are grey, forests are green, etc.). Then we define visualization parameters associated with LC and apply the method we defined earlier:"
      ]
    },
    {
      "cell_type": "code",
      "metadata": {
        "id": "zNIAkdfqUjF3"
      },
      "source": [
        "# Select a specific band and dates for land cover.\n",
        "lc_img = lc.select('LC_Type1').filterDate(i_date).first()\n",
        "\n",
        "# Set visualization parameters for land cover.\n",
        "lc_vis_params = {\n",
        "    'min': 1,'max': 17,\n",
        "    'palette': ['05450a','086a10', '54a708', '78d203', '009900', 'c6b044',\n",
        "                'dcd159', 'dade48', 'fbff13', 'b6ff05', '27ff87', 'c24f44',\n",
        "                'a5a5a5', 'ff6d4c', '69fff8', 'f9ffa4', '1c0dff']\n",
        "}\n",
        "\n",
        "# Create a map.\n",
        "lat, lon = 45.77, 4.855\n",
        "my_map = folium.Map(location=[lat, lon], zoom_start=7)\n",
        "\n",
        "# Add the land cover to the map object.\n",
        "my_map.add_ee_layer(lc_img, lc_vis_params, 'Land Cover')\n",
        "\n",
        "# Add a layer control panel to the map.\n",
        "my_map.add_child(folium.LayerControl())\n",
        "\n",
        "# Display the map.\n",
        "display(my_map)"
      ],
      "execution_count": null,
      "outputs": []
    },
    {
      "cell_type": "markdown",
      "metadata": {
        "id": "fuSdKLP0ntSH"
      },
      "source": [
        "Finally, the map can be saved in *HTML* format using the folium method `save()` specifying the file name as an argument of this method. If you run this cell using Google Colab, your *HTML* file is saved in the *content* folder of your Colab environment. If you run this cell locally, the file is saved inside your current working directory. Then, you will be able to open your *HTML* file with your favorite navigator.\n"
      ]
    },
    {
      "cell_type": "code",
      "metadata": {
        "id": "rtL7fIuSUszw"
      },
      "source": [
        "my_map.save('my_lc_interactive_map.html')"
      ],
      "execution_count": null,
      "outputs": []
    },
    {
      "cell_type": "markdown",
      "metadata": {
        "id": "FNFWTpRXUw0Y"
      },
      "source": [
        "Of course we can add other datasets similarly, by defining some visualization parameters and by adding the appropriate tiles:"
      ]
    },
    {
      "cell_type": "code",
      "metadata": {
        "id": "_VURxXlQUxro"
      },
      "source": [
        "# Set visualization parameters for ground elevation.\n",
        "elv_vis_params = {\n",
        "    'min': 0, 'max': 4000,\n",
        "    'palette': ['006633', 'E5FFCC', '662A00', 'D8D8D8', 'F5F5F5']}\n",
        "\n",
        "# Set visualization parameters for land surface temperature.\n",
        "lst_vis_params = {\n",
        "    'min': 0, 'max': 40,\n",
        "    'palette': ['white', 'blue', 'green', 'yellow', 'orange', 'red']}\n",
        "\n",
        "# Arrange layers inside a list (elevation, LST and land cover).\n",
        "ee_tiles = [elv_img, lst_img, lc_img]\n",
        "\n",
        "# Arrange visualization parameters inside a list.\n",
        "ee_vis_params = [elv_vis_params, lst_vis_params, lc_vis_params]\n",
        "\n",
        "# Arrange layer names inside a list.\n",
        "ee_tiles_names = ['Elevation', 'Land Surface Temperature', 'Land Cover']\n",
        "\n",
        "# Create a new map.\n",
        "lat, lon = 45.77, 4.855\n",
        "my_map = folium.Map(location=[lat, lon], zoom_start=5)\n",
        "\n",
        "# Add layers to the map using a loop.\n",
        "for tile, vis_param, name in zip(ee_tiles, ee_vis_params, ee_tiles_names):\n",
        "    my_map.add_ee_layer(tile, vis_param, name)\n",
        "\n",
        "folium.LayerControl(collapsed = False).add_to(my_map)\n",
        "\n",
        "my_map"
      ],
      "execution_count": null,
      "outputs": []
    },
    {
      "cell_type": "markdown",
      "metadata": {
        "id": "PpFkh36BVLMh"
      },
      "source": [
        "## Documentation\n",
        "\n",
        "- The full documentation of the Google Earth Engine Python API is available [here](https://developers.google.com/earth-engine/api_docs).\n",
        "- The Google Earth Engine User Guide is available [here](https://developers.google.com/earth-engine).\n",
        "- Some tutorials are available [here](https://developers.google.com/earth-engine/tutorials).\n",
        "- An example based on the Google Earth Engine Javascript console dedicated to Land Surface Temperature estimation is provided in the open access supplementary material of [Benz et al., (2017)](https://iopscience.iop.org/article/10.1088/1748-9326/aa5fb0/meta). You can access the code [here](https://code.earthengine.google.com/4a1bc64dbc3351a1e364490758d4cf2d).\n",
        "\n",
        "## Acknowledgements\n",
        "\n",
        "Thanks to Susanne Benz and Justin Braaten for reviewing and helping write this tutorial."
      ]
    }
  ]
}